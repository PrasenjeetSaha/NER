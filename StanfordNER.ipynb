{
 "cells": [
  {
   "cell_type": "code",
   "execution_count": null,
   "id": "8f669457-6064-4cb9-81eb-9cf5b0ce68c9",
   "metadata": {},
   "outputs": [],
   "source": [
    "##Named Entity Recognition in Python with Stanford-NER"
   ]
  },
  {
   "cell_type": "code",
   "execution_count": null,
   "id": "fc75aff6-b086-408b-9431-a75c81fbb5fb",
   "metadata": {},
   "outputs": [],
   "source": [
    "nltk.download('punkt')"
   ]
  },
  {
   "cell_type": "code",
   "execution_count": 1,
   "id": "7c0cfe61-3f5b-478a-be73-33c8c71f5b73",
   "metadata": {},
   "outputs": [],
   "source": [
    "#import nltk\n",
    "#nltk.internals.config_java(\"C:/Program Files (x86)/Java/jre-1.8/bin/java.exe\") #e.g. C:/Program Files/Java/jdk1.8.0_161/bin/java.exe"
   ]
  },
  {
   "cell_type": "code",
   "execution_count": 7,
   "id": "c6173703-6810-41bc-868a-ac6b3e28f269",
   "metadata": {},
   "outputs": [],
   "source": [
    "import os\n",
    "java_path = \"C:/Program Files (x86)/Java/jre-1.8/bin/java.exe\"\n",
    "os.environ['JAVAHOME'] = java_path"
   ]
  },
  {
   "cell_type": "code",
   "execution_count": 2,
   "id": "1cf11ac8-7dd9-4062-b32d-a57bc4d4d0a4",
   "metadata": {},
   "outputs": [],
   "source": [
    "from nltk.tag.stanford import StanfordNERTagger\n",
    "\n",
    "PATH_TO_JAR='C:/Users/sahap/Documents/stanford-ner-2020-11-17/stanford-ner.jar'\n",
    "PATH_TO_MODEL = 'C:/Users/sahap/Documents/stanford-ner-2020-11-17/classifiers/english.all.3class.distsim.crf.ser.gz'"
   ]
  },
  {
   "cell_type": "code",
   "execution_count": 3,
   "id": "e1d545f6-d30d-41ad-bd9a-8a550b3316af",
   "metadata": {},
   "outputs": [],
   "source": [
    "tagger = StanfordNERTagger(model_filename=PATH_TO_MODEL,path_to_jar=PATH_TO_JAR, encoding='utf-8')"
   ]
  },
  {
   "cell_type": "code",
   "execution_count": 18,
   "id": "30f46b3d-f43f-409b-b7bf-d994ab2704ff",
   "metadata": {},
   "outputs": [],
   "source": [
    "sentence = \"The first season, in which Claire Foy portrays the Queen of England in the early part of her reign, depicts events up to 1955, taking in the death of King George VI, prompting Elizabeth’s accession to the throne, and leading up to the resignation of Winston Churchill as prime minister and the Queen's sister Princess Margaret deciding not to marry Peter Townsend.\""
   ]
  },
  {
   "cell_type": "code",
   "execution_count": 19,
   "id": "9d5ad09e-9787-4dc4-8a3e-4046048408f6",
   "metadata": {},
   "outputs": [],
   "source": [
    "words = nltk.word_tokenize(sentence) "
   ]
  },
  {
   "cell_type": "code",
   "execution_count": 20,
   "id": "88e1eca2-ba58-486f-831d-d0c4bbfe1103",
   "metadata": {},
   "outputs": [],
   "source": [
    "tagged = tagger.tag(words)"
   ]
  },
  {
   "cell_type": "code",
   "execution_count": 21,
   "id": "09d660c6-aa38-4130-997c-3009992e8db5",
   "metadata": {},
   "outputs": [
    {
     "data": {
      "text/plain": [
       "[('The', 'O'),\n",
       " ('first', 'O'),\n",
       " ('season', 'O'),\n",
       " (',', 'O'),\n",
       " ('in', 'O'),\n",
       " ('which', 'O'),\n",
       " ('Claire', 'PERSON'),\n",
       " ('Foy', 'PERSON'),\n",
       " ('portrays', 'O'),\n",
       " ('the', 'O'),\n",
       " ('Queen', 'O'),\n",
       " ('of', 'O'),\n",
       " ('England', 'LOCATION'),\n",
       " ('in', 'O'),\n",
       " ('the', 'O'),\n",
       " ('early', 'O'),\n",
       " ('part', 'O'),\n",
       " ('of', 'O'),\n",
       " ('her', 'O'),\n",
       " ('reign', 'O'),\n",
       " (',', 'O'),\n",
       " ('depicts', 'O'),\n",
       " ('events', 'O'),\n",
       " ('up', 'O'),\n",
       " ('to', 'O'),\n",
       " ('1955', 'O'),\n",
       " (',', 'O'),\n",
       " ('taking', 'O'),\n",
       " ('in', 'O'),\n",
       " ('the', 'O'),\n",
       " ('death', 'O'),\n",
       " ('of', 'O'),\n",
       " ('King', 'O'),\n",
       " ('George', 'PERSON'),\n",
       " ('VI', 'PERSON'),\n",
       " (',', 'O'),\n",
       " ('prompting', 'O'),\n",
       " ('Elizabeth', 'PERSON'),\n",
       " ('’', 'O'),\n",
       " ('s', 'O'),\n",
       " ('accession', 'O'),\n",
       " ('to', 'O'),\n",
       " ('the', 'O'),\n",
       " ('throne', 'O'),\n",
       " (',', 'O'),\n",
       " ('and', 'O'),\n",
       " ('leading', 'O'),\n",
       " ('up', 'O'),\n",
       " ('to', 'O'),\n",
       " ('the', 'O'),\n",
       " ('resignation', 'O'),\n",
       " ('of', 'O'),\n",
       " ('Winston', 'PERSON'),\n",
       " ('Churchill', 'PERSON'),\n",
       " ('as', 'O'),\n",
       " ('prime', 'O'),\n",
       " ('minister', 'O'),\n",
       " ('and', 'O'),\n",
       " ('the', 'O'),\n",
       " ('Queen', 'O'),\n",
       " (\"'s\", 'O'),\n",
       " ('sister', 'O'),\n",
       " ('Princess', 'O'),\n",
       " ('Margaret', 'PERSON'),\n",
       " ('deciding', 'O'),\n",
       " ('not', 'O'),\n",
       " ('to', 'O'),\n",
       " ('marry', 'O'),\n",
       " ('Peter', 'PERSON'),\n",
       " ('Townsend', 'PERSON'),\n",
       " ('.', 'O')]"
      ]
     },
     "execution_count": 21,
     "metadata": {},
     "output_type": "execute_result"
    }
   ],
   "source": [
    "tagged"
   ]
  }
 ],
 "metadata": {
  "kernelspec": {
   "display_name": "Python 3 (ipykernel)",
   "language": "python",
   "name": "python3"
  },
  "language_info": {
   "codemirror_mode": {
    "name": "ipython",
    "version": 3
   },
   "file_extension": ".py",
   "mimetype": "text/x-python",
   "name": "python",
   "nbconvert_exporter": "python",
   "pygments_lexer": "ipython3",
   "version": "3.9.12"
  }
 },
 "nbformat": 4,
 "nbformat_minor": 5
}
